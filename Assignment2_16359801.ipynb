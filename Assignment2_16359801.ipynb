{
  "nbformat": 4,
  "nbformat_minor": 0,
  "metadata": {
    "colab": {
      "provenance": []
    },
    "kernelspec": {
      "name": "python3",
      "display_name": "Python 3"
    },
    "language_info": {
      "name": "python"
    }
  },
  "cells": [
    {
      "cell_type": "markdown",
      "source": [
        "#1.Handling missing values in all the columns"
      ],
      "metadata": {
        "id": "x9xaLUVojzBX"
      }
    },
    {
      "cell_type": "code",
      "execution_count": 26,
      "metadata": {
        "colab": {
          "base_uri": "https://localhost:8080/"
        },
        "id": "Fs_U3D3eiFbX",
        "outputId": "34f5cd53-ded8-48b8-a604-4f66c89a06c9"
      },
      "outputs": [
        {
          "output_type": "stream",
          "name": "stdout",
          "text": [
            "Shape of DataFrame after loading: (5847, 14)\n",
            "Columns after loading: ['Unnamed: 0', 'Name', 'Location', 'Year', 'Kilometers_Driven', 'Fuel_Type', 'Transmission', 'Owner_Type', 'Mileage', 'Engine', 'Power', 'Seats', 'New_Price', 'Price']\n",
            "           Missing Values  Percentage\n",
            "Mileage                 2    0.034206\n",
            "Engine                 36    0.615700\n",
            "Power                  36    0.615700\n",
            "Seats                  38    0.649906\n",
            "New_Price            5032   86.061228\n",
            "Missing values after imputation:\n",
            "Unnamed: 0           0\n",
            "Name                 0\n",
            "Location             0\n",
            "Year                 0\n",
            "Kilometers_Driven    0\n",
            "Fuel_Type            0\n",
            "Transmission         0\n",
            "Owner_Type           0\n",
            "Mileage              0\n",
            "Engine               0\n",
            "Power                0\n",
            "Seats                0\n",
            "Price                0\n",
            "dtype: int64\n"
          ]
        }
      ],
      "source": [
        "import pandas as pd\n",
        "\n",
        "# Load the CSV file from the GitHub URL\n",
        "data = pd.read_csv('https://raw.githubusercontent.com/SREEJA-KALLU/PDS-ICP/refs/heads/main/train.csv')\n",
        "\n",
        "\n",
        "# Checking the shape and columns\n",
        "print(\"Shape of DataFrame after loading:\", data.shape)\n",
        "print(\"Columns after loading:\", data.columns.tolist())\n",
        "\n",
        "# Checking for missing values\n",
        "missing_data = data.isnull().sum()\n",
        "missing_percentage = (missing_data / len(data)) * 100\n",
        "missing_summary = pd.DataFrame({\"Missing Values\": missing_data, \"Percentage\": missing_percentage})\n",
        "missing_summary = missing_summary[missing_summary[\"Missing Values\"] > 0]\n",
        "print(missing_summary)\n",
        "\n",
        "# Converting 'Mileage', 'Engine', and 'Power' to numeric by extracting the numeric part\n",
        "data['Mileage'] = data['Mileage'].astype(str).str.extract('(\\d+\\.?\\d*)')[0].astype(float)\n",
        "data['Engine'] = data['Engine'].astype(str).str.extract('(\\d+\\.?\\d*)')[0].astype(float)\n",
        "data['Power'] = data['Power'].astype(str).str.extract('(\\d+\\.?\\d*)')[0].astype(float)\n",
        "\n",
        "# Imputing  missing values using the mean for numerical columns\n",
        "data['Mileage'] = data['Mileage'].fillna(data['Mileage'].mean())\n",
        "data['Engine'] = data['Engine'].fillna(data['Engine'].mean())\n",
        "data['Power'] = data['Power'].fillna(data['Power'].mean())\n",
        "data['Seats'] = data['Seats'].fillna(data['Seats'].mean())\n",
        "\n",
        "# Dropping 'New_Price' column due to a high percentage of missing values\n",
        "data.drop(columns=['New_Price'], inplace=True)\n",
        "\n",
        "# Checking for any remaining missing values\n",
        "missing_values_after = data.isnull().sum()\n",
        "print(\"Missing values after imputation:\")\n",
        "print(missing_values_after)\n"
      ]
    },
    {
      "cell_type": "markdown",
      "source": [
        "#Justification for Handling Missing Values\n",
        "\n",
        "In my analysis of the used cars dataset, I took the following steps to handle missing values:\n",
        "\n",
        "Identifying Missing Values: I first checked each column for missing values and calculated their percentages to understand the extent of the issue.\n",
        "\n",
        "Converting to Numeric: I converted the Mileage, Engine, and Power columns into numeric format by extracting only the numeric part. This was necessary for accurate analysis.\n",
        "\n",
        "Imputing Missing Values: For the columns with missing values (Mileage, Engine, Power, and Seats), I replaced the missing entries with the mean of their respective columns. This approach helps keep as much data as possible without losing valuable information.\n",
        "\n",
        "Dropping Irrelevant Columns: I dropped the New_Price column because it had a very high percentage of missing values (86%). Keeping such a column could lead to bias in the analysis.\n",
        "\n",
        "Final Check: I performed a final check to ensure there were no remaining missing values in the dataset."
      ],
      "metadata": {
        "id": "DwZvJDIfkioL"
      }
    },
    {
      "cell_type": "markdown",
      "source": [
        "#2.Removing the units from some of the attributes"
      ],
      "metadata": {
        "id": "ePfWL-Stj4GC"
      }
    },
    {
      "cell_type": "code",
      "source": [
        "\n",
        "# Removing units\n",
        "data['Mileage'] = data['Mileage'].astype(str).str.extract(r'(\\d+\\.?\\d*)')[0].astype(float)\n",
        "data['Engine'] = data['Engine'].astype(str).str.extract(r'(\\d+\\.?\\d*)')[0].astype(float)\n",
        "data['Power'] = data['Power'].astype(str).str.extract(r'(\\d+\\.?\\d*)')[0].astype(float)\n",
        "\n",
        "# Checking the changes\n",
        "print(data[['Mileage', 'Engine', 'Power']].head())"
      ],
      "metadata": {
        "colab": {
          "base_uri": "https://localhost:8080/"
        },
        "id": "Egb5oUm3iLr8",
        "outputId": "d1543ad8-4591-41f2-d347-f094a7bc15d4"
      },
      "execution_count": 27,
      "outputs": [
        {
          "output_type": "stream",
          "name": "stdout",
          "text": [
            "   Mileage  Engine   Power\n",
            "0    19.67  1582.0  126.20\n",
            "1    13.00  1199.0   88.70\n",
            "2    20.77  1248.0   88.76\n",
            "3    15.20  1968.0  140.80\n",
            "4    23.08  1461.0   63.10\n"
          ]
        }
      ]
    },
    {
      "cell_type": "markdown",
      "source": [
        "#3.Changing the categorical variables (“Fuel_Type” and “Transmission”) into numerical one hot encoded value.  "
      ],
      "metadata": {
        "id": "cksspUjpkCd3"
      }
    },
    {
      "cell_type": "code",
      "source": [
        "\n",
        "# One-hot encoding 'Fuel_Type' and 'Transmission'\n",
        "data = pd.get_dummies(data, columns=['Fuel_Type', 'Transmission'], drop_first=False)\n",
        "\n",
        "# Converting  one-hot encoded columns to integers (0s and 1s)\n",
        "one_hot_columns = data.filter(regex='Fuel_Type_|Transmission_').columns\n",
        "data[one_hot_columns] = data[one_hot_columns].astype(int)\n",
        "\n",
        "# Checking the first few rows to confirm changes\n",
        "print(data.head())\n",
        "\n"
      ],
      "metadata": {
        "colab": {
          "base_uri": "https://localhost:8080/"
        },
        "id": "ZOzs47nJiQF6",
        "outputId": "3735d3ef-f07a-4189-8ac1-c67749ca68c3"
      },
      "execution_count": 28,
      "outputs": [
        {
          "output_type": "stream",
          "name": "stdout",
          "text": [
            "   Unnamed: 0                              Name    Location  Year  \\\n",
            "0           1  Hyundai Creta 1.6 CRDi SX Option        Pune  2015   \n",
            "1           2                      Honda Jazz V     Chennai  2011   \n",
            "2           3                 Maruti Ertiga VDI     Chennai  2012   \n",
            "3           4   Audi A4 New 2.0 TDI Multitronic  Coimbatore  2013   \n",
            "4           6            Nissan Micra Diesel XV      Jaipur  2013   \n",
            "\n",
            "   Kilometers_Driven Owner_Type  Mileage  Engine   Power  Seats  Price  \\\n",
            "0              41000      First    19.67  1582.0  126.20    5.0  12.50   \n",
            "1              46000      First    13.00  1199.0   88.70    5.0   4.50   \n",
            "2              87000      First    20.77  1248.0   88.76    7.0   6.00   \n",
            "3              40670     Second    15.20  1968.0  140.80    5.0  17.74   \n",
            "4              86999      First    23.08  1461.0   63.10    5.0   3.50   \n",
            "\n",
            "   Fuel_Type_Diesel  Fuel_Type_Electric  Fuel_Type_Petrol  \\\n",
            "0                 1                   0                 0   \n",
            "1                 0                   0                 1   \n",
            "2                 1                   0                 0   \n",
            "3                 1                   0                 0   \n",
            "4                 1                   0                 0   \n",
            "\n",
            "   Transmission_Automatic  Transmission_Manual  \n",
            "0                       0                    1  \n",
            "1                       0                    1  \n",
            "2                       0                    1  \n",
            "3                       1                    0  \n",
            "4                       0                    1  \n"
          ]
        }
      ]
    },
    {
      "cell_type": "markdown",
      "source": [
        "#4.Creating one more feature - current age of the car"
      ],
      "metadata": {
        "id": "-LptYg6Jkwwi"
      }
    },
    {
      "cell_type": "code",
      "source": [
        "from datetime import datetime\n",
        "\n",
        "# Calculating the car's age\n",
        "current_year = datetime.now().year\n",
        "data['Car_Age'] = current_year - data['Year']\n",
        "\n",
        "# Checking the dataset with the new 'Car_Age' column\n",
        "print(data.head())\n"
      ],
      "metadata": {
        "colab": {
          "base_uri": "https://localhost:8080/"
        },
        "id": "B4mhzaJjk9Ig",
        "outputId": "2becdee0-064f-4263-8971-c232a1682790"
      },
      "execution_count": 29,
      "outputs": [
        {
          "output_type": "stream",
          "name": "stdout",
          "text": [
            "   Unnamed: 0                              Name    Location  Year  \\\n",
            "0           1  Hyundai Creta 1.6 CRDi SX Option        Pune  2015   \n",
            "1           2                      Honda Jazz V     Chennai  2011   \n",
            "2           3                 Maruti Ertiga VDI     Chennai  2012   \n",
            "3           4   Audi A4 New 2.0 TDI Multitronic  Coimbatore  2013   \n",
            "4           6            Nissan Micra Diesel XV      Jaipur  2013   \n",
            "\n",
            "   Kilometers_Driven Owner_Type  Mileage  Engine   Power  Seats  Price  \\\n",
            "0              41000      First    19.67  1582.0  126.20    5.0  12.50   \n",
            "1              46000      First    13.00  1199.0   88.70    5.0   4.50   \n",
            "2              87000      First    20.77  1248.0   88.76    7.0   6.00   \n",
            "3              40670     Second    15.20  1968.0  140.80    5.0  17.74   \n",
            "4              86999      First    23.08  1461.0   63.10    5.0   3.50   \n",
            "\n",
            "   Fuel_Type_Diesel  Fuel_Type_Electric  Fuel_Type_Petrol  \\\n",
            "0                 1                   0                 0   \n",
            "1                 0                   0                 1   \n",
            "2                 1                   0                 0   \n",
            "3                 1                   0                 0   \n",
            "4                 1                   0                 0   \n",
            "\n",
            "   Transmission_Automatic  Transmission_Manual  Car_Age  \n",
            "0                       0                    1        9  \n",
            "1                       0                    1       13  \n",
            "2                       0                    1       12  \n",
            "3                       1                    0       11  \n",
            "4                       0                    1       11  \n"
          ]
        }
      ]
    },
    {
      "cell_type": "markdown",
      "source": [
        "#5.Performing select, filter, rename, mutate, arrange and summarize with group by operations"
      ],
      "metadata": {
        "id": "RGwOQQiHmnEI"
      }
    },
    {
      "cell_type": "code",
      "source": [
        "# 1. Selecting specific columns\n",
        "selected_data = data[['Name', 'Year', 'Kilometers_Driven', 'Price']]\n",
        "\n",
        "# 2. Filtering rows where Price is greater than 5\n",
        "filtered_data = selected_data[selected_data['Price'] > 5]\n",
        "\n",
        "# 3. Renaming 'Kilometers_Driven' to 'KMs_Driven'\n",
        "filtered_data = filtered_data.rename(columns={'Kilometers_Driven': 'KMs_Driven'})\n",
        "\n",
        "# 4. Mutate: Creating a new column 'Price_per_KM'\n",
        "filtered_data['Price_per_KM'] = filtered_data['Price'] / filtered_data['KMs_Driven']\n",
        "\n",
        "# 5. Arrange: Sorting by Price in descending order\n",
        "sorted_data = filtered_data.sort_values(by='Price', ascending=False)\n",
        "\n",
        "# 6. Summarize: Calculating the average Price\n",
        "average_price = sorted_data['Price'].mean()\n",
        "\n",
        "# Displaying final results\n",
        "sorted_data.head(), average_price\n"
      ],
      "metadata": {
        "colab": {
          "base_uri": "https://localhost:8080/"
        },
        "id": "0_NVxlCQmwlM",
        "outputId": "85b8de07-ac8f-4331-8375-5e989fae2d29"
      },
      "execution_count": 30,
      "outputs": [
        {
          "output_type": "execute_result",
          "data": {
            "text/plain": [
              "(                                             Name  Year  KMs_Driven   Price  \\\n",
              " 3952  Land Rover Range Rover 3.0 Diesel LWB Vogue  2017       25000  160.00   \n",
              " 5620                   Lamborghini Gallardo Coupe  2011        6500  120.00   \n",
              " 5752                       Jaguar F Type 5.0 V8 S  2015        8000  100.00   \n",
              " 1457              Land Rover Range Rover Sport SE  2019       26013   97.07   \n",
              " 1917                           BMW 7 Series 740Li  2018       28060   93.67   \n",
              " \n",
              "       Price_per_KM  \n",
              " 3952      0.006400  \n",
              " 5620      0.018462  \n",
              " 5752      0.012500  \n",
              " 1457      0.003732  \n",
              " 1917      0.003338  ,\n",
              " 14.477028160575193)"
            ]
          },
          "metadata": {},
          "execution_count": 30
        }
      ]
    }
  ]
}