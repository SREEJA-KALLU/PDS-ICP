{
  "nbformat": 4,
  "nbformat_minor": 0,
  "metadata": {
    "colab": {
      "provenance": []
    },
    "kernelspec": {
      "name": "python3",
      "display_name": "Python 3"
    },
    "language_info": {
      "name": "python"
    }
  },
  "cells": [
    {
      "cell_type": "markdown",
      "source": [
        "#DATA TYPE CONVERSION"
      ],
      "metadata": {
        "id": "xP1wNDwYoA2V"
      }
    },
    {
      "cell_type": "code",
      "execution_count": 1,
      "metadata": {
        "id": "zp8h_mJhkVVB"
      },
      "outputs": [],
      "source": [
        "%%capture result_output_1\n",
        "import pandas as pd\n",
        "\n",
        "# DataFrame\n",
        "data = {'Height': [65.8, 71.5, 69.4, 68.2, 67.8, 68.7, 69.8, 70.1, 67.9, 66.8],\n",
        "        'Weight': [112, 136, 153, 142, 144, 123, 141, 136, 112, 120],\n",
        "        'Age': [30, 19, 45, 22, 29, 50, 51, 23, 17, 39],\n",
        "        'Grip_strength': [30, 31, 29, 28, 24, 26, 22, 20, 19, 31],\n",
        "        'Frailty': ['N', 'N', 'N', 'Y', 'Y', 'N', 'Y', 'Y', 'N', 'N']}\n",
        "\n",
        "df = pd.DataFrame(data)\n",
        "\n",
        "# Converting 'Frailty' column from Y/N to 1/0\n",
        "df['Frailty'] = df['Frailty'].map({'Y': 1, 'N': 0})\n",
        "\n",
        "print(df)\n"
      ]
    },
    {
      "cell_type": "markdown",
      "source": [
        "#DATA NORMALIZATION AND STANDARDIZATION\n"
      ],
      "metadata": {
        "id": "bXooIm3GnppN"
      }
    },
    {
      "cell_type": "code",
      "source": [
        "%%capture result_output_2\n",
        "# data\n",
        "data = {\n",
        "    'Height': [65.8, 71.5, 69.4, 68.2, 67.8, 68.7, 69.8, 70.1, 67.9, 66.8],\n",
        "    'Weight': [112, 136, 153, 142, 144, 123, 141, 136, 112, 120],\n",
        "    'Age': [30, 19, 45, 22, 29, 50, 51, 23, 17, 39],\n",
        "    'Grip_strength': [30, 31, 29, 28, 24, 26, 22, 20, 19, 31]\n",
        "}\n",
        "\n",
        "# Normalization\n",
        "def normalize(column):\n",
        "    min_value = min(column)\n",
        "    max_value = max(column)\n",
        "    return [(x - min_value) / (max_value - min_value) for x in column]\n",
        "\n",
        "# Standardization\n",
        "def standardize(column):\n",
        "    mean_value = sum(column) / len(column)\n",
        "    std_dev = (sum([(x - mean_value) ** 2 for x in column]) / len(column)) ** 0.5\n",
        "    return [(x - mean_value) / std_dev for x in column]\n",
        "\n",
        "# Applying Normalization and Standardization\n",
        "normalized_data = {key: normalize(value) for key, value in data.items()}\n",
        "standardized_data = {key: standardize(value) for key, value in data.items()}\n",
        "\n",
        "# Displaying results\n",
        "import pandas as pd\n",
        "normalized_df = pd.DataFrame(normalized_data)\n",
        "standardized_df = pd.DataFrame(standardized_data)\n",
        "\n",
        "print(\"Normalized Data:\")\n",
        "print(normalized_df)\n",
        "\n",
        "print(\"\\nStandardized Data:\")\n",
        "print(standardized_df)\n"
      ],
      "metadata": {
        "id": "t19M0cQWnWKc"
      },
      "execution_count": 2,
      "outputs": []
    },
    {
      "cell_type": "markdown",
      "source": [
        "#OUTLIER DETECTION\n"
      ],
      "metadata": {
        "id": "XKkQJIwipDoV"
      }
    },
    {
      "cell_type": "code",
      "source": [
        "%%capture result_output_3\n",
        "import numpy as np\n",
        "import pandas as pd\n",
        "from scipy import stats\n",
        "\n",
        "# data\n",
        "data = {\n",
        "    'Height': [65.8, 71.5, 69.4, 68.2, 67.8, 68.7, 69.8, 70.1, 67.9, 66.8],\n",
        "    'Weight': [112, 136, 153, 142, 144, 123, 141, 136, 112, 120],\n",
        "    'Age': [30, 19, 45, 22, 29, 50, 51, 23, 17, 39],\n",
        "    'Grip_strength': [30, 31, 29, 28, 24, 26, 22, 20, 19, 31]\n",
        "}\n",
        "\n",
        "df = pd.DataFrame(data)\n",
        "\n",
        "# Z-score calculation\n",
        "z_scores = np.abs(stats.zscore(df))\n",
        "\n",
        "# Setting a threshold for the Z-score that is 3\n",
        "threshold = 3\n",
        "\n",
        "# Finding data points where any Z-score value exceeds the threshold\n",
        "outliers = df[(z_scores > threshold).any(axis=1)]\n",
        "\n",
        "# Displaying the outliers\n",
        "print(\"Outliers:\")\n",
        "print(outliers)\n",
        "\n"
      ],
      "metadata": {
        "id": "lkStvLKVpCRU"
      },
      "execution_count": 3,
      "outputs": []
    },
    {
      "cell_type": "markdown",
      "source": [
        "#CAPTURING RESULTS INTO A TEXT FILE"
      ],
      "metadata": {
        "id": "gMoJmQLoMpCf"
      }
    },
    {
      "cell_type": "code",
      "source": [
        "\n",
        "with open('datapreprocessing_result.txt', 'w') as f:\n",
        "\n",
        "    f.write(result_output_1.stdout + '\\n')\n",
        "    f.write(result_output_2.stdout + '\\n')\n",
        "    f.write(result_output_3.stdout + '\\n')\n",
        "\n",
        "from google.colab import files\n",
        "files.download('datapreprocessing_result.txt')\n"
      ],
      "metadata": {
        "colab": {
          "base_uri": "https://localhost:8080/",
          "height": 17
        },
        "id": "Cf-M5mMtMnpM",
        "outputId": "3a87f312-2335-4fd5-9a76-673556ade742"
      },
      "execution_count": 4,
      "outputs": [
        {
          "output_type": "display_data",
          "data": {
            "text/plain": [
              "<IPython.core.display.Javascript object>"
            ],
            "application/javascript": [
              "\n",
              "    async function download(id, filename, size) {\n",
              "      if (!google.colab.kernel.accessAllowed) {\n",
              "        return;\n",
              "      }\n",
              "      const div = document.createElement('div');\n",
              "      const label = document.createElement('label');\n",
              "      label.textContent = `Downloading \"${filename}\": `;\n",
              "      div.appendChild(label);\n",
              "      const progress = document.createElement('progress');\n",
              "      progress.max = size;\n",
              "      div.appendChild(progress);\n",
              "      document.body.appendChild(div);\n",
              "\n",
              "      const buffers = [];\n",
              "      let downloaded = 0;\n",
              "\n",
              "      const channel = await google.colab.kernel.comms.open(id);\n",
              "      // Send a message to notify the kernel that we're ready.\n",
              "      channel.send({})\n",
              "\n",
              "      for await (const message of channel.messages) {\n",
              "        // Send a message to notify the kernel that we're ready.\n",
              "        channel.send({})\n",
              "        if (message.buffers) {\n",
              "          for (const buffer of message.buffers) {\n",
              "            buffers.push(buffer);\n",
              "            downloaded += buffer.byteLength;\n",
              "            progress.value = downloaded;\n",
              "          }\n",
              "        }\n",
              "      }\n",
              "      const blob = new Blob(buffers, {type: 'application/binary'});\n",
              "      const a = document.createElement('a');\n",
              "      a.href = window.URL.createObjectURL(blob);\n",
              "      a.download = filename;\n",
              "      div.appendChild(a);\n",
              "      a.click();\n",
              "      div.remove();\n",
              "    }\n",
              "  "
            ]
          },
          "metadata": {}
        },
        {
          "output_type": "display_data",
          "data": {
            "text/plain": [
              "<IPython.core.display.Javascript object>"
            ],
            "application/javascript": [
              "download(\"download_f4c164b3-db91-44ed-84d6-90d0b6d425a8\", \"datapreprocessing_result.txt\", 1673)"
            ]
          },
          "metadata": {}
        }
      ]
    }
  ]
}